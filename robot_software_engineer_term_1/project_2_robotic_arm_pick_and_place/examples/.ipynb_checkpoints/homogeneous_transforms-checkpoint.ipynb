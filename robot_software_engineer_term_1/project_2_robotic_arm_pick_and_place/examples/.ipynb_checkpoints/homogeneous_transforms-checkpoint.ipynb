{
 "cells": [
  {
   "cell_type": "code",
   "execution_count": 1,
   "metadata": {},
   "outputs": [],
   "source": [
    "from sympy import symbols, cos, sin, pi, sqrt, simplify\n",
    "from sympy.matrices import Matrix"
   ]
  },
  {
   "cell_type": "code",
   "execution_count": 2,
   "metadata": {},
   "outputs": [],
   "source": [
    "### Create symbols for joint variables\n",
    "# The numbers 1 to 4 correspond to each rotation in the order specified to you.\n",
    "q1, q2, q3, q4 = symbols('q1:5')"
   ]
  },
  {
   "cell_type": "code",
   "execution_count": 3,
   "metadata": {},
   "outputs": [],
   "source": [
    "# Conversion Factor\n",
    "rtd = 180.0/pi # radians to degrees\n",
    "dtr = pi/180.0 # degrees to radians"
   ]
  },
  {
   "cell_type": "code",
   "execution_count": 4,
   "metadata": {},
   "outputs": [],
   "source": [
    "### Define functions for Rotation Matrices about x, y, and z given specific angle.\n",
    "\n",
    "def rot_x(q):\n",
    "    R_x = Matrix([[1.0, 0.0, 0.0],\n",
    "                  [0.0, cos(q), -sin(q)],\n",
    "                  [0.0, sin(q), cos(q)]])\n",
    "    \n",
    "    return R_x\n",
    "    \n",
    "def rot_y(q):              \n",
    "    R_y = Matrix([[cos(q), 0.0, sin(q)],\n",
    "                  [0.0, 1.0, 0.0],\n",
    "                  [-sin(q), 0.0, cos(q)]])\n",
    "    \n",
    "    return R_y\n",
    "\n",
    "def rot_z(q):    \n",
    "    R_z = Matrix([[cos(q), -sin(q), 0.0],\n",
    "                  [sin(q), cos(q), 0.0],\n",
    "                  [0.0, 0.0, 1.0]])\n",
    "    \n",
    "    return R_z"
   ]
  },
  {
   "cell_type": "code",
   "execution_count": 5,
   "metadata": {},
   "outputs": [],
   "source": [
    "### Define rotations between frames"
   ]
  },
  {
   "cell_type": "code",
   "execution_count": 6,
   "metadata": {},
   "outputs": [],
   "source": [
    "# Initial Rotation Matrix for Frame A\n",
    "Ra = Matrix([[1, 0, 0],\n",
    "             [0, 1, 0],\n",
    "             [0, 0, 1]])"
   ]
  },
  {
   "cell_type": "code",
   "execution_count": 7,
   "metadata": {},
   "outputs": [],
   "source": [
    "# Rotations performed on individual Frames for A->B->E\n",
    "Rb_a = rot_y(q1)\n",
    "Re_b = rot_x(q2)"
   ]
  },
  {
   "cell_type": "code",
   "execution_count": 8,
   "metadata": {},
   "outputs": [],
   "source": [
    "# Rotations performed on individual Frames for A->C->D->E\n",
    "Rc_a = Ra\n",
    "Rd_c = rot_x(q3)\n",
    "Re_d = rot_z(q4)"
   ]
  },
  {
   "cell_type": "code",
   "execution_count": 9,
   "metadata": {},
   "outputs": [],
   "source": [
    "### Define Translations between frames.\n",
    "\n",
    "tb_a = Matrix([[-2.0], [2.0], [4.0]])\n",
    "te_b = Matrix([[0.0], [2.0], [0.0]])\n",
    "tc_a = Matrix([[4.0], [4.0], [0.0]])\n",
    "td_c = Matrix([[-3.0], [3.0], [2.0]])\n",
    "te_d = Matrix([[-3.0], [2.0], [3.0]])"
   ]
  },
  {
   "cell_type": "code",
   "execution_count": 10,
   "metadata": {},
   "outputs": [],
   "source": [
    "### Define homogenous transformation matrices\n",
    "# HINT: Check out sympy's documentation for functions row_join and col_join\n",
    "Ta = Ra.row_join(Matrix([[0.0], [0.0], [0.0]]))\n",
    "Ta = Ta.col_join(Matrix([[0.0, 0.0, 0.0, 1.0]]))\n",
    "\n",
    "Tb_a = Rb_a.row_join(tb_a)\n",
    "Tb_a = Tb_a.col_join(Matrix([[0.0, 0.0, 0.0, 1.0]]))\n",
    "\n",
    "Te_b = Re_b.row_join(te_b)\n",
    "Te_b = Te_b.col_join(Matrix([[0.0, 0.0, 0.0, 1.0]]))\n",
    "\n",
    "Tc_a = Rc_a.row_join(tc_a)\n",
    "Tc_a = Tc_a.col_join(Matrix([[0.0, 0.0, 0.0, 1.0]]))\n",
    "\n",
    "Td_c = Rd_c.row_join(td_c)\n",
    "Td_c = Td_c.col_join(Matrix([[0.0, 0.0, 0.0, 1.0]]))\n",
    "\n",
    "Te_d = Re_d.row_join(te_d)\n",
    "Te_d = Te_d.col_join(Matrix([[0.0, 0.0, 0.0, 1.0]]))"
   ]
  },
  {
   "cell_type": "code",
   "execution_count": 11,
   "metadata": {},
   "outputs": [],
   "source": [
    "### Composition of Transformations\n",
    "Te_a_1 = simplify(Ta * Tb_a * Te_b)\n",
    "\n",
    "Te_a_2 = simplify(Ta * Tc_a * Td_c * Te_d)"
   ]
  },
  {
   "cell_type": "code",
   "execution_count": 12,
   "metadata": {},
   "outputs": [],
   "source": [
    "### Calculate orientation and position for E\n",
    "E_1 = Te_a_1.evalf(subs={q1: -90*dtr, q2: 90*dtr}, chop = True)\n",
    "\n",
    "E_2 = Te_a_2.evalf(subs={q3: 90*dtr, q4: 90*dtr}, chop = True)"
   ]
  },
  {
   "cell_type": "code",
   "execution_count": 13,
   "metadata": {},
   "outputs": [
    {
     "name": "stdout",
     "output_type": "stream",
     "text": [
      "Transformation Matrix for A->B->E:\n",
      "Matrix([[0, -1.00000000000000, 0, -2.00000000000000], [0, 0, -1.00000000000000, 4.00000000000000], [1.00000000000000, 0, 0, 4.00000000000000], [0, 0, 0, 1.00000000000000]])\n",
      "Transformation Matrix for A->C->D->E:\n",
      "Matrix([[0, -1.00000000000000, 0, -2.00000000000000], [0, 0, -1.00000000000000, 4.00000000000000], [1.00000000000000, 0, 0, 4.00000000000000], [0, 0, 0, 1.00000000000000]])\n"
     ]
    }
   ],
   "source": [
    "print(\"Transformation Matrix for A->B->E:\")\n",
    "print(E_1)\n",
    "\n",
    "print(\"Transformation Matrix for A->C->D->E:\")\n",
    "print(E_2)"
   ]
  },
  {
   "cell_type": "code",
   "execution_count": null,
   "metadata": {},
   "outputs": [],
   "source": []
  }
 ],
 "metadata": {
  "kernelspec": {
   "display_name": "Python [conda env:RoboND]",
   "language": "python",
   "name": "conda-env-RoboND-py"
  },
  "language_info": {
   "codemirror_mode": {
    "name": "ipython",
    "version": 3
   },
   "file_extension": ".py",
   "mimetype": "text/x-python",
   "name": "python",
   "nbconvert_exporter": "python",
   "pygments_lexer": "ipython3",
   "version": "3.5.2"
  }
 },
 "nbformat": 4,
 "nbformat_minor": 2
}
